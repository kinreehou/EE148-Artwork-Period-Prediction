{
 "cells": [
  {
   "cell_type": "code",
   "execution_count": 5,
   "metadata": {},
   "outputs": [],
   "source": [
    "import os\n",
    "import shutil\n",
    "import glob\n",
    "import random\n",
    "\n",
    "ppt = 0.03\n",
    "file_list = os.listdir('train_1/') # dir is your directory path\n",
    "number_files = len(file_list)\n",
    "l = int(number_files*ppt)\n",
    "to_be_moved = random.sample(glob.glob(\"train_1/*.jpg\"), l)\n",
    "\n",
    "for f in enumerate(to_be_moved, 1):\n",
    "    dest = os.path.join(\"train_sample_3/\", str(f[0]))\n",
    "    if not os.path.exists(dest):\n",
    "        os.makedirs(dest)\n",
    "    shutil.copy(f[1], dest)"
   ]
  },
  {
   "cell_type": "code",
   "execution_count": null,
   "metadata": {},
   "outputs": [],
   "source": []
  },
  {
   "cell_type": "code",
   "execution_count": null,
   "metadata": {},
   "outputs": [],
   "source": []
  }
 ],
 "metadata": {
  "kernelspec": {
   "display_name": "Python 3",
   "language": "python",
   "name": "python3"
  },
  "language_info": {
   "codemirror_mode": {
    "name": "ipython",
    "version": 3
   },
   "file_extension": ".py",
   "mimetype": "text/x-python",
   "name": "python",
   "nbconvert_exporter": "python",
   "pygments_lexer": "ipython3",
   "version": "3.7.4"
  }
 },
 "nbformat": 4,
 "nbformat_minor": 4
}
