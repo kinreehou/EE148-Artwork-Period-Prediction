{
 "cells": [
  {
   "cell_type": "code",
   "execution_count": 1,
   "metadata": {},
   "outputs": [],
   "source": [
    "import os\n",
    "import pandas as pd\n",
    "import glob \n",
    "import numpy as np\n",
    "from PIL import Image"
   ]
  },
  {
   "cell_type": "code",
   "execution_count": 2,
   "metadata": {},
   "outputs": [],
   "source": [
    "bad_files = ['72255.jpg', '92899.jpg', '50420.jpg', '95347.jpg', '81823.jpg', '33557.jpg', \n",
    "             '98873.jpg','79499.jpg','95010.jpg','101947.jpg','41945.jpg']"
   ]
  },
  {
   "cell_type": "code",
   "execution_count": 3,
   "metadata": {},
   "outputs": [
    {
     "name": "stdout",
     "output_type": "stream",
     "text": [
      "81823.jpg\n",
      "92899.jpg\n",
      "101947.jpg\n",
      "95010.jpg\n",
      "98873.jpg\n",
      "72255.jpg\n",
      "79499.jpg\n",
      "95347.jpg\n",
      "33557.jpg\n",
      "50420.jpg\n",
      "41945.jpg\n"
     ]
    }
   ],
   "source": [
    "df = pd.read_csv('train_info.csv')\n",
    "df = df.dropna()\n",
    "WSI_MASK_PATH = 'train/'\n",
    "paths = glob.glob(os.path.join(WSI_MASK_PATH, '*.jpg'))\n",
    "#print(paths) \n",
    "\n",
    "train_data = []\n",
    "for path in paths:\n",
    "    img_name = path.split('/')[1]\n",
    "    if img_name in bad_files:\n",
    "        print(img_name)\n",
    "        continue\n",
    "    #print(img_name)\n",
    "    date = df.loc[df['filename']==img_name]['date'].tolist()\n",
    "    if date:\n",
    "        d = date[0]\n",
    "        if (d[0] == 'c'):\n",
    "            d = d[2:]\n",
    "        while not d[0].isdigit():\n",
    "            d = d[1:]\n",
    "            #print(d)\n",
    "        train_data.append([img_name, int(float(d))])\n",
    " \n",
    "train1_df = pd.DataFrame(np.array(train_data), columns=['filename','date'])\n",
    "#train1_df.head\n",
    "train1_df.to_csv('train_all_info.csv', index = False, header=True)"
   ]
  },
  {
   "cell_type": "code",
   "execution_count": null,
   "metadata": {},
   "outputs": [],
   "source": [
    "    \n",
    "    "
   ]
  },
  {
   "cell_type": "code",
   "execution_count": null,
   "metadata": {},
   "outputs": [],
   "source": []
  }
 ],
 "metadata": {
  "kernelspec": {
   "display_name": "Python 3",
   "language": "python",
   "name": "python3"
  },
  "language_info": {
   "codemirror_mode": {
    "name": "ipython",
    "version": 3
   },
   "file_extension": ".py",
   "mimetype": "text/x-python",
   "name": "python",
   "nbconvert_exporter": "python",
   "pygments_lexer": "ipython3",
   "version": "3.7.4"
  }
 },
 "nbformat": 4,
 "nbformat_minor": 4
}
