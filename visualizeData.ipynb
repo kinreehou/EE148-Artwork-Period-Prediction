{
 "cells": [
  {
   "cell_type": "code",
   "execution_count": 60,
   "metadata": {},
   "outputs": [
    {
     "data": {
      "text/html": [
       "<div>\n",
       "<style scoped>\n",
       "    .dataframe tbody tr th:only-of-type {\n",
       "        vertical-align: middle;\n",
       "    }\n",
       "\n",
       "    .dataframe tbody tr th {\n",
       "        vertical-align: top;\n",
       "    }\n",
       "\n",
       "    .dataframe thead th {\n",
       "        text-align: right;\n",
       "    }\n",
       "</style>\n",
       "<table border=\"1\" class=\"dataframe\">\n",
       "  <thead>\n",
       "    <tr style=\"text-align: right;\">\n",
       "      <th></th>\n",
       "      <th>filename</th>\n",
       "      <th>date</th>\n",
       "    </tr>\n",
       "  </thead>\n",
       "  <tbody>\n",
       "    <tr>\n",
       "      <th>0</th>\n",
       "      <td>91159.jpg</td>\n",
       "      <td>1982</td>\n",
       "    </tr>\n",
       "    <tr>\n",
       "      <th>1</th>\n",
       "      <td>13628.jpg</td>\n",
       "      <td>1874</td>\n",
       "    </tr>\n",
       "    <tr>\n",
       "      <th>2</th>\n",
       "      <td>65966.jpg</td>\n",
       "      <td>1610</td>\n",
       "    </tr>\n",
       "    <tr>\n",
       "      <th>3</th>\n",
       "      <td>101264.jpg</td>\n",
       "      <td>1914</td>\n",
       "    </tr>\n",
       "    <tr>\n",
       "      <th>4</th>\n",
       "      <td>12536.jpg</td>\n",
       "      <td>1921</td>\n",
       "    </tr>\n",
       "    <tr>\n",
       "      <th>...</th>\n",
       "      <td>...</td>\n",
       "      <td>...</td>\n",
       "    </tr>\n",
       "    <tr>\n",
       "      <th>58349</th>\n",
       "      <td>7707.jpg</td>\n",
       "      <td>1920</td>\n",
       "    </tr>\n",
       "    <tr>\n",
       "      <th>58350</th>\n",
       "      <td>74872.jpg</td>\n",
       "      <td>1909</td>\n",
       "    </tr>\n",
       "    <tr>\n",
       "      <th>58351</th>\n",
       "      <td>100163.jpg</td>\n",
       "      <td>1975</td>\n",
       "    </tr>\n",
       "    <tr>\n",
       "      <th>58352</th>\n",
       "      <td>55664.jpg</td>\n",
       "      <td>1914</td>\n",
       "    </tr>\n",
       "    <tr>\n",
       "      <th>58353</th>\n",
       "      <td>13631.jpg</td>\n",
       "      <td>1874</td>\n",
       "    </tr>\n",
       "  </tbody>\n",
       "</table>\n",
       "<p>58354 rows × 2 columns</p>\n",
       "</div>"
      ],
      "text/plain": [
       "         filename  date\n",
       "0       91159.jpg  1982\n",
       "1       13628.jpg  1874\n",
       "2       65966.jpg  1610\n",
       "3      101264.jpg  1914\n",
       "4       12536.jpg  1921\n",
       "...           ...   ...\n",
       "58349    7707.jpg  1920\n",
       "58350   74872.jpg  1909\n",
       "58351  100163.jpg  1975\n",
       "58352   55664.jpg  1914\n",
       "58353   13631.jpg  1874\n",
       "\n",
       "[58354 rows x 2 columns]"
      ]
     },
     "metadata": {},
     "output_type": "display_data"
    },
    {
     "name": "stdout",
     "output_type": "stream",
     "text": [
      "647\n"
     ]
    },
    {
     "data": {
      "text/plain": [
       "array([[<matplotlib.axes._subplots.AxesSubplot object at 0x7f5dccc9fb70>]],\n",
       "      dtype=object)"
      ]
     },
     "execution_count": 60,
     "metadata": {},
     "output_type": "execute_result"
    },
    {
     "data": {
      "image/png": "[encoded data removed]",
      "text/plain": [
       "<Figure size 432x288 with 1 Axes>"
      ]
     },
     "metadata": {},
     "output_type": "display_data"
    }
   ],
   "source": [
    "import pandas as pd\n",
    "import numpy as np\n",
    "\n",
    "df = pd.read_csv('train_all_info.csv')\n",
    "# df.drop(columns=['filename'], inplace=True)\n",
    "display(df)\n",
    "print(df['date'].nunique())\n",
    "hist = df.hist(bins=df['date'].nunique())\n",
    "hist"
   ]
  },
  {
   "cell_type": "code",
   "execution_count": 61,
   "metadata": {},
   "outputs": [
    {
     "name": "stdout",
     "output_type": "stream",
     "text": [
      "        filename  date\n",
      "30259  16458.jpg   187\n",
      "31695  79075.jpg   904\n",
      "13559  45720.jpg   930\n",
      "6629   73492.jpg  1059\n",
      "27023  28974.jpg  1072\n",
      "...          ...   ...\n",
      "56008  47856.jpg  2011\n",
      "17621  70689.jpg  2011\n",
      "4099   51168.jpg  2011\n",
      "51289  66284.jpg  2012\n",
      "13813  37201.jpg  2012\n",
      "\n",
      "[58354 rows x 2 columns]\n",
      "[5835, 11670, 17506, 23341, 29177, 35012, 40847, 46683, 52518]\n",
      "[1645, 1836, 1877, 1891, 1903, 1913, 1926, 1944, 1966]\n",
      "[1836, 1877, 1891, 1903, 1913, 1926, 1944]\n"
     ]
    }
   ],
   "source": [
    "df.sort_values(by=['date'], inplace=True)\n",
    "print(df)\n",
    "length = len(df)\n",
    "num_classes = 10\n",
    "indicies = []\n",
    "for i in range(1,num_classes):\n",
    "    indicies.append(int(i * length / num_classes))\n",
    "same_values = False\n",
    "for i in range(num_classes - 2):\n",
    "    if indicies[i] == indicies[i + 1]:\n",
    "        same_values = True\n",
    "        break\n",
    "if (same_values == True):\n",
    "    print(\"UH OH\")\n",
    "dfl = []\n",
    "dates = []\n",
    "for i in range(num_classes - 1):\n",
    "    dfl.append(df.iloc[indicies[i]])\n",
    "    dates.append(dfl[i]['date'])\n",
    "print(indicies)\n",
    "print(dates)\n",
    "print(dates[1:-1])"
   ]
  },
  {
   "cell_type": "code",
   "execution_count": 62,
   "metadata": {},
   "outputs": [
    {
     "name": "stdout",
     "output_type": "stream",
     "text": [
      "        filename class\n",
      "30259  16458.jpg     0\n",
      "31695  79075.jpg     0\n",
      "13559  45720.jpg     0\n",
      "6629   73492.jpg     0\n",
      "27023  28974.jpg     0\n",
      "...          ...   ...\n",
      "56008  47856.jpg     9\n",
      "17621  70689.jpg     9\n",
      "4099   51168.jpg     9\n",
      "51289  66284.jpg     9\n",
      "13813  37201.jpg     9\n",
      "\n",
      "[58354 rows x 2 columns]\n"
     ]
    },
    {
     "name": "stderr",
     "output_type": "stream",
     "text": [
      "/home/james/.local/lib/python3.6/site-packages/pandas/core/indexing.py:671: SettingWithCopyWarning: \n",
      "A value is trying to be set on a copy of a slice from a DataFrame\n",
      "\n",
      "See the caveats in the documentation: https://pandas.pydata.org/pandas-docs/stable/user_guide/indexing.html#returning-a-view-versus-a-copy\n",
      "  self._setitem_with_indexer(indexer, value)\n"
     ]
    }
   ],
   "source": [
    "df['class'] = np.zeros\n",
    "date = dates[0]\n",
    "df['class'].loc[df['date'] <= date] = 0\n",
    "\n",
    "count = 1\n",
    "previous_date = date\n",
    "for date in dates[1:]:\n",
    "    df['class'].loc[(df['date'] > previous_date) & (df['date'] <= date)] = count\n",
    "    previous_date = date\n",
    "    count += 1\n",
    "    \n",
    "date = dates[-1]\n",
    "df['class'].loc[df['date'] > date] = count\n",
    "df.drop(columns=['date'], inplace=True)\n",
    "print(df)\n",
    "#df['class'] = df['class'].astype(int)\n",
    "df.to_csv('train_all_classes_10.csv', index = False, header=True)"
   ]
  },
  {
   "cell_type": "code",
   "execution_count": 50,
   "metadata": {},
   "outputs": [
    {
     "ename": "AttributeError",
     "evalue": "'DataFrame' object has no attribute 'grouby'",
     "output_type": "error",
     "traceback": [
      "\u001b[0;31m---------------------------------------------------------------------------\u001b[0m",
      "\u001b[0;31mAttributeError\u001b[0m                            Traceback (most recent call last)",
      "\u001b[0;32m<ipython-input-50-5ca4db23d761>\u001b[0m in \u001b[0;36m<module>\u001b[0;34m()\u001b[0m\n\u001b[0;32m----> 1\u001b[0;31m \u001b[0mdf\u001b[0m\u001b[0;34m.\u001b[0m\u001b[0mgrouby\u001b[0m\u001b[0;34m(\u001b[0m\u001b[0;34m[\u001b[0m\u001b[0;34m'class'\u001b[0m\u001b[0;34m]\u001b[0m\u001b[0;34m)\u001b[0m\u001b[0;34m.\u001b[0m\u001b[0mcount\u001b[0m\u001b[0;34m(\u001b[0m\u001b[0;34m)\u001b[0m\u001b[0;34m\u001b[0m\u001b[0;34m\u001b[0m\u001b[0m\n\u001b[0m",
      "\u001b[0;32m/home/james/.local/lib/python3.6/site-packages/pandas/core/generic.py\u001b[0m in \u001b[0;36m__getattr__\u001b[0;34m(self, name)\u001b[0m\n\u001b[1;32m   5272\u001b[0m             \u001b[0;32mif\u001b[0m \u001b[0mself\u001b[0m\u001b[0;34m.\u001b[0m\u001b[0m_info_axis\u001b[0m\u001b[0;34m.\u001b[0m\u001b[0m_can_hold_identifiers_and_holds_name\u001b[0m\u001b[0;34m(\u001b[0m\u001b[0mname\u001b[0m\u001b[0;34m)\u001b[0m\u001b[0;34m:\u001b[0m\u001b[0;34m\u001b[0m\u001b[0;34m\u001b[0m\u001b[0m\n\u001b[1;32m   5273\u001b[0m                 \u001b[0;32mreturn\u001b[0m \u001b[0mself\u001b[0m\u001b[0;34m[\u001b[0m\u001b[0mname\u001b[0m\u001b[0;34m]\u001b[0m\u001b[0;34m\u001b[0m\u001b[0;34m\u001b[0m\u001b[0m\n\u001b[0;32m-> 5274\u001b[0;31m             \u001b[0;32mreturn\u001b[0m \u001b[0mobject\u001b[0m\u001b[0;34m.\u001b[0m\u001b[0m__getattribute__\u001b[0m\u001b[0;34m(\u001b[0m\u001b[0mself\u001b[0m\u001b[0;34m,\u001b[0m \u001b[0mname\u001b[0m\u001b[0;34m)\u001b[0m\u001b[0;34m\u001b[0m\u001b[0;34m\u001b[0m\u001b[0m\n\u001b[0m\u001b[1;32m   5275\u001b[0m \u001b[0;34m\u001b[0m\u001b[0m\n\u001b[1;32m   5276\u001b[0m     \u001b[0;32mdef\u001b[0m \u001b[0m__setattr__\u001b[0m\u001b[0;34m(\u001b[0m\u001b[0mself\u001b[0m\u001b[0;34m,\u001b[0m \u001b[0mname\u001b[0m\u001b[0;34m:\u001b[0m \u001b[0mstr\u001b[0m\u001b[0;34m,\u001b[0m \u001b[0mvalue\u001b[0m\u001b[0;34m)\u001b[0m \u001b[0;34m->\u001b[0m \u001b[0;32mNone\u001b[0m\u001b[0;34m:\u001b[0m\u001b[0;34m\u001b[0m\u001b[0;34m\u001b[0m\u001b[0m\n",
      "\u001b[0;31mAttributeError\u001b[0m: 'DataFrame' object has no attribute 'grouby'"
     ]
    }
   ],
   "source": [
    "df.grouby(['class']).count()"
   ]
  },
  {
   "cell_type": "code",
   "execution_count": null,
   "metadata": {},
   "outputs": [],
   "source": []
  },
  {
   "cell_type": "code",
   "execution_count": null,
   "metadata": {},
   "outputs": [],
   "source": []
  }
 ],
 "metadata": {
  "kernelspec": {
   "display_name": "Python 3",
   "language": "python",
   "name": "python3"
  },
  "language_info": {
   "codemirror_mode": {
    "name": "ipython",
    "version": 3
   },
   "file_extension": ".py",
   "mimetype": "text/x-python",
   "name": "python",
   "nbconvert_exporter": "python",
   "pygments_lexer": "ipython3",
   "version": "3.6.9"
  }
 },
 "nbformat": 4,
 "nbformat_minor": 4
}
